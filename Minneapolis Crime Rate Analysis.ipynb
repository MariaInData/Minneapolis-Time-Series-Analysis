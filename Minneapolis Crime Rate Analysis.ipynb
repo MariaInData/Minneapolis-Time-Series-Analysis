{
 "cells": [
  {
   "cell_type": "markdown",
   "id": "ba1f7a8c",
   "metadata": {},
   "source": [
    "Importing Packages and Data"
   ]
  },
  {
   "cell_type": "code",
   "execution_count": 1,
   "id": "2c8deead",
   "metadata": {},
   "outputs": [],
   "source": [
    "import pandas as pd\n",
    "from matplotlib import pyplot as plt\n",
    "%matplotlib inline \n",
    "import numpy as np\n",
    "from datetime import datetime \n",
    "from pandas.plotting import autocorrelation_plot\n",
    "from statsmodels.graphics.tsaplots import plot_acf\n",
    "from statsmodels.graphics.tsaplots import plot_pacf\n",
    "from pmdarima.arima import ADFTest\n",
    "from pmdarima.arima import auto_arima"
   ]
  },
  {
   "cell_type": "code",
   "execution_count": 2,
   "id": "4d85a2aa",
   "metadata": {},
   "outputs": [],
   "source": [
    "# Ignore warnings\n",
    "import warnings\n",
    "warnings.filterwarnings('ignore') "
   ]
  },
  {
   "cell_type": "code",
   "execution_count": 4,
   "id": "4280d7f2",
   "metadata": {},
   "outputs": [],
   "source": [
    "df = pd.read_csv(\"/Users/moyma/Documents/Exploratory Analytics/Crime_Data_Minneapolis.csv\")"
   ]
  },
  {
   "cell_type": "markdown",
   "id": "60b6455d",
   "metadata": {},
   "source": [
    "Data Cleaning and Transformation"
   ]
  },
  {
   "cell_type": "code",
   "execution_count": 5,
   "id": "7131bfcd",
   "metadata": {},
   "outputs": [
    {
     "data": {
      "text/plain": [
       "Index(['X', 'Y', 'Type', 'Case_Number', 'Case_NumberAlt', 'Reported_Date',\n",
       "       'Occurred_Date', 'NIBRS_Crime_Against', 'NIBRS_Group', 'NIBRS_Code',\n",
       "       'Offense_Category', 'Offense', 'Problem_Initial', 'Problem_Final',\n",
       "       'Address', 'Precinct', 'Neighborhood', 'Ward', 'Latitude', 'Longitude',\n",
       "       'wgsXAnon', 'wgsYAnon', 'Crime_Count', 'OBJECTID'],\n",
       "      dtype='object')"
      ]
     },
     "execution_count": 5,
     "metadata": {},
     "output_type": "execute_result"
    }
   ],
   "source": [
    "df.columns"
   ]
  },
  {
   "cell_type": "code",
   "execution_count": 6,
   "id": "cfcd6a64",
   "metadata": {},
   "outputs": [
    {
     "data": {
      "text/plain": [
       "('Occurred_Date', 'Offense_CategoryNeighborhoodPrecinctWard')"
      ]
     },
     "execution_count": 6,
     "metadata": {},
     "output_type": "execute_result"
    }
   ],
   "source": [
    "'Occurred_Date', 'Offense_Category' 'Neighborhood' \"Precinct\" 'Ward'"
   ]
  },
  {
   "cell_type": "code",
   "execution_count": 6,
   "id": "73ee0479",
   "metadata": {},
   "outputs": [],
   "source": [
    "df.drop(columns = ['X','Y','Type', 'Case_Number', 'Case_NumberAlt', 'Reported_Date',\n",
    "       'NIBRS_Crime_Against', 'NIBRS_Group', 'NIBRS_Code',\n",
    "       'Offense', 'Problem_Initial', 'Problem_Final',\n",
    "       'Address' , 'Latitude', 'Longitude',\n",
    "       'wgsXAnon', 'wgsYAnon', 'Crime_Count', 'OBJECTID'],axis =1, inplace = True)"
   ]
  },
  {
   "cell_type": "code",
   "execution_count": 7,
   "id": "bb6a3f1f",
   "metadata": {},
   "outputs": [
    {
     "data": {
      "text/html": [
       "<div>\n",
       "<style scoped>\n",
       "    .dataframe tbody tr th:only-of-type {\n",
       "        vertical-align: middle;\n",
       "    }\n",
       "\n",
       "    .dataframe tbody tr th {\n",
       "        vertical-align: top;\n",
       "    }\n",
       "\n",
       "    .dataframe thead th {\n",
       "        text-align: right;\n",
       "    }\n",
       "</style>\n",
       "<table border=\"1\" class=\"dataframe\">\n",
       "  <thead>\n",
       "    <tr style=\"text-align: right;\">\n",
       "      <th></th>\n",
       "      <th>Occurred_Date</th>\n",
       "      <th>Offense_Category</th>\n",
       "      <th>Precinct</th>\n",
       "      <th>Neighborhood</th>\n",
       "      <th>Ward</th>\n",
       "    </tr>\n",
       "  </thead>\n",
       "  <tbody>\n",
       "    <tr>\n",
       "      <th>0</th>\n",
       "      <td>2019/01/06 16:40:00+00</td>\n",
       "      <td>Subset of NIBRS Assault Offenses</td>\n",
       "      <td>3.0</td>\n",
       "      <td>Midtown Phillips</td>\n",
       "      <td>9.0</td>\n",
       "    </tr>\n",
       "    <tr>\n",
       "      <th>1</th>\n",
       "      <td>2019/01/21 02:25:00+00</td>\n",
       "      <td>Subset of NIBRS Assault Offenses</td>\n",
       "      <td>4.0</td>\n",
       "      <td>Near - North</td>\n",
       "      <td>5.0</td>\n",
       "    </tr>\n",
       "    <tr>\n",
       "      <th>2</th>\n",
       "      <td>2019/02/03 23:52:00+00</td>\n",
       "      <td>Subset of NIBRS Assault Offenses</td>\n",
       "      <td>4.0</td>\n",
       "      <td>Hawthorne</td>\n",
       "      <td>5.0</td>\n",
       "    </tr>\n",
       "    <tr>\n",
       "      <th>3</th>\n",
       "      <td>2019/02/04 22:27:00+00</td>\n",
       "      <td>Subset of NIBRS Assault Offenses</td>\n",
       "      <td>4.0</td>\n",
       "      <td>Webber - Camden</td>\n",
       "      <td>4.0</td>\n",
       "    </tr>\n",
       "    <tr>\n",
       "      <th>4</th>\n",
       "      <td>2019/02/06 12:00:00+00</td>\n",
       "      <td>Subset of NIBRS Assault Offenses</td>\n",
       "      <td>5.0</td>\n",
       "      <td>Whittier</td>\n",
       "      <td>10.0</td>\n",
       "    </tr>\n",
       "    <tr>\n",
       "      <th>...</th>\n",
       "      <td>...</td>\n",
       "      <td>...</td>\n",
       "      <td>...</td>\n",
       "      <td>...</td>\n",
       "      <td>...</td>\n",
       "    </tr>\n",
       "    <tr>\n",
       "      <th>217065</th>\n",
       "      <td>2023/02/25 21:57:01+00</td>\n",
       "      <td>Shots Fired Calls</td>\n",
       "      <td>4.0</td>\n",
       "      <td>Hawthorne</td>\n",
       "      <td>5.0</td>\n",
       "    </tr>\n",
       "    <tr>\n",
       "      <th>217066</th>\n",
       "      <td>2023/02/26 03:35:59+00</td>\n",
       "      <td>Shots Fired Calls</td>\n",
       "      <td>4.0</td>\n",
       "      <td>Webber - Camden</td>\n",
       "      <td>4.0</td>\n",
       "    </tr>\n",
       "    <tr>\n",
       "      <th>217067</th>\n",
       "      <td>2023/02/27 22:15:39+00</td>\n",
       "      <td>Shots Fired Calls</td>\n",
       "      <td>2.0</td>\n",
       "      <td>Holland</td>\n",
       "      <td>1.0</td>\n",
       "    </tr>\n",
       "    <tr>\n",
       "      <th>217068</th>\n",
       "      <td>2023/02/28 00:49:45+00</td>\n",
       "      <td>Shots Fired Calls</td>\n",
       "      <td>4.0</td>\n",
       "      <td>Folwell</td>\n",
       "      <td>4.0</td>\n",
       "    </tr>\n",
       "    <tr>\n",
       "      <th>217069</th>\n",
       "      <td>2023/02/28 22:50:31+00</td>\n",
       "      <td>Shots Fired Calls</td>\n",
       "      <td>3.0</td>\n",
       "      <td>Hiawatha</td>\n",
       "      <td>12.0</td>\n",
       "    </tr>\n",
       "  </tbody>\n",
       "</table>\n",
       "<p>217070 rows × 5 columns</p>\n",
       "</div>"
      ],
      "text/plain": [
       "                 Occurred_Date                  Offense_Category  Precinct  \\\n",
       "0       2019/01/06 16:40:00+00  Subset of NIBRS Assault Offenses       3.0   \n",
       "1       2019/01/21 02:25:00+00  Subset of NIBRS Assault Offenses       4.0   \n",
       "2       2019/02/03 23:52:00+00  Subset of NIBRS Assault Offenses       4.0   \n",
       "3       2019/02/04 22:27:00+00  Subset of NIBRS Assault Offenses       4.0   \n",
       "4       2019/02/06 12:00:00+00  Subset of NIBRS Assault Offenses       5.0   \n",
       "...                        ...                               ...       ...   \n",
       "217065  2023/02/25 21:57:01+00                 Shots Fired Calls       4.0   \n",
       "217066  2023/02/26 03:35:59+00                 Shots Fired Calls       4.0   \n",
       "217067  2023/02/27 22:15:39+00                 Shots Fired Calls       2.0   \n",
       "217068  2023/02/28 00:49:45+00                 Shots Fired Calls       4.0   \n",
       "217069  2023/02/28 22:50:31+00                 Shots Fired Calls       3.0   \n",
       "\n",
       "            Neighborhood  Ward  \n",
       "0       Midtown Phillips   9.0  \n",
       "1           Near - North   5.0  \n",
       "2              Hawthorne   5.0  \n",
       "3        Webber - Camden   4.0  \n",
       "4               Whittier  10.0  \n",
       "...                  ...   ...  \n",
       "217065         Hawthorne   5.0  \n",
       "217066   Webber - Camden   4.0  \n",
       "217067           Holland   1.0  \n",
       "217068           Folwell   4.0  \n",
       "217069          Hiawatha  12.0  \n",
       "\n",
       "[217070 rows x 5 columns]"
      ]
     },
     "execution_count": 7,
     "metadata": {},
     "output_type": "execute_result"
    }
   ],
   "source": [
    "df"
   ]
  },
  {
   "cell_type": "code",
   "execution_count": 8,
   "id": "37a4e5bd",
   "metadata": {},
   "outputs": [],
   "source": [
    "#doing it on a city level first\n",
    "df1 = df.drop(columns = ['Precinct', 'Neighborhood', 'Ward'])"
   ]
  },
  {
   "cell_type": "code",
   "execution_count": 9,
   "id": "7829340e",
   "metadata": {},
   "outputs": [
    {
     "data": {
      "text/html": [
       "<div>\n",
       "<style scoped>\n",
       "    .dataframe tbody tr th:only-of-type {\n",
       "        vertical-align: middle;\n",
       "    }\n",
       "\n",
       "    .dataframe tbody tr th {\n",
       "        vertical-align: top;\n",
       "    }\n",
       "\n",
       "    .dataframe thead th {\n",
       "        text-align: right;\n",
       "    }\n",
       "</style>\n",
       "<table border=\"1\" class=\"dataframe\">\n",
       "  <thead>\n",
       "    <tr style=\"text-align: right;\">\n",
       "      <th></th>\n",
       "      <th>Occurred_Date</th>\n",
       "      <th>Offense_Category</th>\n",
       "    </tr>\n",
       "  </thead>\n",
       "  <tbody>\n",
       "    <tr>\n",
       "      <th>0</th>\n",
       "      <td>2019/01/06 16:40:00+00</td>\n",
       "      <td>Subset of NIBRS Assault Offenses</td>\n",
       "    </tr>\n",
       "    <tr>\n",
       "      <th>1</th>\n",
       "      <td>2019/01/21 02:25:00+00</td>\n",
       "      <td>Subset of NIBRS Assault Offenses</td>\n",
       "    </tr>\n",
       "    <tr>\n",
       "      <th>2</th>\n",
       "      <td>2019/02/03 23:52:00+00</td>\n",
       "      <td>Subset of NIBRS Assault Offenses</td>\n",
       "    </tr>\n",
       "    <tr>\n",
       "      <th>3</th>\n",
       "      <td>2019/02/04 22:27:00+00</td>\n",
       "      <td>Subset of NIBRS Assault Offenses</td>\n",
       "    </tr>\n",
       "    <tr>\n",
       "      <th>4</th>\n",
       "      <td>2019/02/06 12:00:00+00</td>\n",
       "      <td>Subset of NIBRS Assault Offenses</td>\n",
       "    </tr>\n",
       "  </tbody>\n",
       "</table>\n",
       "</div>"
      ],
      "text/plain": [
       "            Occurred_Date                  Offense_Category\n",
       "0  2019/01/06 16:40:00+00  Subset of NIBRS Assault Offenses\n",
       "1  2019/01/21 02:25:00+00  Subset of NIBRS Assault Offenses\n",
       "2  2019/02/03 23:52:00+00  Subset of NIBRS Assault Offenses\n",
       "3  2019/02/04 22:27:00+00  Subset of NIBRS Assault Offenses\n",
       "4  2019/02/06 12:00:00+00  Subset of NIBRS Assault Offenses"
      ]
     },
     "execution_count": 9,
     "metadata": {},
     "output_type": "execute_result"
    }
   ],
   "source": [
    "df1.head()"
   ]
  },
  {
   "cell_type": "code",
   "execution_count": 10,
   "id": "d6992824",
   "metadata": {},
   "outputs": [],
   "source": [
    "df1['Date'] = pd.to_datetime(df1['Occurred_Date']).dt.date\n",
    "df1.drop(['Occurred_Date'], axis = 1, inplace = True)"
   ]
  },
  {
   "cell_type": "code",
   "execution_count": 11,
   "id": "e365661f",
   "metadata": {},
   "outputs": [
    {
     "data": {
      "text/html": [
       "<div>\n",
       "<style scoped>\n",
       "    .dataframe tbody tr th:only-of-type {\n",
       "        vertical-align: middle;\n",
       "    }\n",
       "\n",
       "    .dataframe tbody tr th {\n",
       "        vertical-align: top;\n",
       "    }\n",
       "\n",
       "    .dataframe thead th {\n",
       "        text-align: right;\n",
       "    }\n",
       "</style>\n",
       "<table border=\"1\" class=\"dataframe\">\n",
       "  <thead>\n",
       "    <tr style=\"text-align: right;\">\n",
       "      <th></th>\n",
       "      <th>Offense_Category</th>\n",
       "      <th>Date</th>\n",
       "    </tr>\n",
       "  </thead>\n",
       "  <tbody>\n",
       "    <tr>\n",
       "      <th>0</th>\n",
       "      <td>Subset of NIBRS Assault Offenses</td>\n",
       "      <td>2019-01-06</td>\n",
       "    </tr>\n",
       "    <tr>\n",
       "      <th>1</th>\n",
       "      <td>Subset of NIBRS Assault Offenses</td>\n",
       "      <td>2019-01-21</td>\n",
       "    </tr>\n",
       "    <tr>\n",
       "      <th>2</th>\n",
       "      <td>Subset of NIBRS Assault Offenses</td>\n",
       "      <td>2019-02-03</td>\n",
       "    </tr>\n",
       "    <tr>\n",
       "      <th>3</th>\n",
       "      <td>Subset of NIBRS Assault Offenses</td>\n",
       "      <td>2019-02-04</td>\n",
       "    </tr>\n",
       "    <tr>\n",
       "      <th>4</th>\n",
       "      <td>Subset of NIBRS Assault Offenses</td>\n",
       "      <td>2019-02-06</td>\n",
       "    </tr>\n",
       "    <tr>\n",
       "      <th>...</th>\n",
       "      <td>...</td>\n",
       "      <td>...</td>\n",
       "    </tr>\n",
       "    <tr>\n",
       "      <th>217065</th>\n",
       "      <td>Shots Fired Calls</td>\n",
       "      <td>2023-02-25</td>\n",
       "    </tr>\n",
       "    <tr>\n",
       "      <th>217066</th>\n",
       "      <td>Shots Fired Calls</td>\n",
       "      <td>2023-02-26</td>\n",
       "    </tr>\n",
       "    <tr>\n",
       "      <th>217067</th>\n",
       "      <td>Shots Fired Calls</td>\n",
       "      <td>2023-02-27</td>\n",
       "    </tr>\n",
       "    <tr>\n",
       "      <th>217068</th>\n",
       "      <td>Shots Fired Calls</td>\n",
       "      <td>2023-02-28</td>\n",
       "    </tr>\n",
       "    <tr>\n",
       "      <th>217069</th>\n",
       "      <td>Shots Fired Calls</td>\n",
       "      <td>2023-02-28</td>\n",
       "    </tr>\n",
       "  </tbody>\n",
       "</table>\n",
       "<p>217070 rows × 2 columns</p>\n",
       "</div>"
      ],
      "text/plain": [
       "                        Offense_Category        Date\n",
       "0       Subset of NIBRS Assault Offenses  2019-01-06\n",
       "1       Subset of NIBRS Assault Offenses  2019-01-21\n",
       "2       Subset of NIBRS Assault Offenses  2019-02-03\n",
       "3       Subset of NIBRS Assault Offenses  2019-02-04\n",
       "4       Subset of NIBRS Assault Offenses  2019-02-06\n",
       "...                                  ...         ...\n",
       "217065                 Shots Fired Calls  2023-02-25\n",
       "217066                 Shots Fired Calls  2023-02-26\n",
       "217067                 Shots Fired Calls  2023-02-27\n",
       "217068                 Shots Fired Calls  2023-02-28\n",
       "217069                 Shots Fired Calls  2023-02-28\n",
       "\n",
       "[217070 rows x 2 columns]"
      ]
     },
     "execution_count": 11,
     "metadata": {},
     "output_type": "execute_result"
    }
   ],
   "source": [
    "df1"
   ]
  },
  {
   "cell_type": "code",
   "execution_count": 12,
   "id": "9e91869e",
   "metadata": {},
   "outputs": [
    {
     "data": {
      "text/plain": [
       "27"
      ]
     },
     "execution_count": 12,
     "metadata": {},
     "output_type": "execute_result"
    }
   ],
   "source": [
    "#unique types of offense #27 unique crimes\n",
    "len(df1['Offense_Category'].unique().tolist())\n",
    "#could also do df1.Offense_Category.value_counts().count()"
   ]
  },
  {
   "cell_type": "code",
   "execution_count": 13,
   "id": "b82d1597",
   "metadata": {},
   "outputs": [
    {
     "data": {
      "text/plain": [
       "Larceny/Theft Offenses                       52895\n",
       "Shots Fired Calls                            35589\n",
       "Assault Offenses                             31915\n",
       "Destruction/Damage/Vandalism of Property     21435\n",
       "Motor Vehicle Theft                          19181\n",
       "Burglary/Breaking & Entering                 12821\n",
       "Fraud Offenses                                8426\n",
       "Robbery                                       7353\n",
       "Drug/Narcotic Offenses                        6155\n",
       "Weapon Law Violations                         5407\n",
       "Subset of NIBRS Assault Offenses              3604\n",
       "Sex Offenses                                  3268\n",
       "Stolen Property Offenses                      1934\n",
       "Gunshot Wound Victims                         1725\n",
       "Subset of NIBRS Robbery                       1415\n",
       "Counterfeiting/Forgery                        1317\n",
       "Kidnapping/Abduction                           821\n",
       "Pornography/Obscene Material                   503\n",
       "Arson                                          445\n",
       "Homicide Offenses                              326\n",
       "Embezzlement                                   230\n",
       "Extortion/Blackmail                            108\n",
       "Animal Cruelty                                  99\n",
       "Human Trafficking                               71\n",
       "Prostitution Offenses                           17\n",
       "Gambling Offenses                                8\n",
       "Bribery                                          2\n",
       "Name: Offense_Category, dtype: int64"
      ]
     },
     "execution_count": 13,
     "metadata": {},
     "output_type": "execute_result"
    }
   ],
   "source": [
    "df1[\"Offense_Category\"].value_counts()"
   ]
  },
  {
   "cell_type": "code",
   "execution_count": 14,
   "id": "9726d0e2",
   "metadata": {},
   "outputs": [],
   "source": [
    "dates = pd.pivot_table(df1, index = ['Date'], aggfunc = 'count')"
   ]
  },
  {
   "cell_type": "code",
   "execution_count": 15,
   "id": "82c18522",
   "metadata": {},
   "outputs": [
    {
     "data": {
      "text/html": [
       "<div>\n",
       "<style scoped>\n",
       "    .dataframe tbody tr th:only-of-type {\n",
       "        vertical-align: middle;\n",
       "    }\n",
       "\n",
       "    .dataframe tbody tr th {\n",
       "        vertical-align: top;\n",
       "    }\n",
       "\n",
       "    .dataframe thead th {\n",
       "        text-align: right;\n",
       "    }\n",
       "</style>\n",
       "<table border=\"1\" class=\"dataframe\">\n",
       "  <thead>\n",
       "    <tr style=\"text-align: right;\">\n",
       "      <th></th>\n",
       "      <th>Offense_Category</th>\n",
       "    </tr>\n",
       "    <tr>\n",
       "      <th>Date</th>\n",
       "      <th></th>\n",
       "    </tr>\n",
       "  </thead>\n",
       "  <tbody>\n",
       "    <tr>\n",
       "      <th>1922-01-09</th>\n",
       "      <td>1</td>\n",
       "    </tr>\n",
       "    <tr>\n",
       "      <th>1922-08-20</th>\n",
       "      <td>1</td>\n",
       "    </tr>\n",
       "    <tr>\n",
       "      <th>1961-09-01</th>\n",
       "      <td>1</td>\n",
       "    </tr>\n",
       "    <tr>\n",
       "      <th>1975-01-01</th>\n",
       "      <td>1</td>\n",
       "    </tr>\n",
       "    <tr>\n",
       "      <th>1982-01-01</th>\n",
       "      <td>1</td>\n",
       "    </tr>\n",
       "    <tr>\n",
       "      <th>...</th>\n",
       "      <td>...</td>\n",
       "    </tr>\n",
       "    <tr>\n",
       "      <th>2023-02-26</th>\n",
       "      <td>103</td>\n",
       "    </tr>\n",
       "    <tr>\n",
       "      <th>2023-02-27</th>\n",
       "      <td>123</td>\n",
       "    </tr>\n",
       "    <tr>\n",
       "      <th>2023-02-28</th>\n",
       "      <td>93</td>\n",
       "    </tr>\n",
       "    <tr>\n",
       "      <th>2023-03-01</th>\n",
       "      <td>113</td>\n",
       "    </tr>\n",
       "    <tr>\n",
       "      <th>2023-03-02</th>\n",
       "      <td>42</td>\n",
       "    </tr>\n",
       "  </tbody>\n",
       "</table>\n",
       "<p>2033 rows × 1 columns</p>\n",
       "</div>"
      ],
      "text/plain": [
       "            Offense_Category\n",
       "Date                        \n",
       "1922-01-09                 1\n",
       "1922-08-20                 1\n",
       "1961-09-01                 1\n",
       "1975-01-01                 1\n",
       "1982-01-01                 1\n",
       "...                      ...\n",
       "2023-02-26               103\n",
       "2023-02-27               123\n",
       "2023-02-28                93\n",
       "2023-03-01               113\n",
       "2023-03-02                42\n",
       "\n",
       "[2033 rows x 1 columns]"
      ]
     },
     "execution_count": 15,
     "metadata": {},
     "output_type": "execute_result"
    }
   ],
   "source": [
    "dates #occured dates range from 1922 to 2023 because it can be reported much later. I'll take the last 5 years"
   ]
  },
  {
   "cell_type": "code",
   "execution_count": 17,
   "id": "aef1da16",
   "metadata": {},
   "outputs": [],
   "source": [
    "#creating a list of all dates in last 5 years\n",
    "idx = pd.date_range('2019-03-02', '2023-03-02')"
   ]
  },
  {
   "cell_type": "code",
   "execution_count": 19,
   "id": "f20648f2",
   "metadata": {},
   "outputs": [
    {
     "data": {
      "text/html": [
       "<div>\n",
       "<style scoped>\n",
       "    .dataframe tbody tr th:only-of-type {\n",
       "        vertical-align: middle;\n",
       "    }\n",
       "\n",
       "    .dataframe tbody tr th {\n",
       "        vertical-align: top;\n",
       "    }\n",
       "\n",
       "    .dataframe thead th {\n",
       "        text-align: right;\n",
       "    }\n",
       "</style>\n",
       "<table border=\"1\" class=\"dataframe\">\n",
       "  <thead>\n",
       "    <tr style=\"text-align: right;\">\n",
       "      <th></th>\n",
       "      <th>Offense_Category</th>\n",
       "    </tr>\n",
       "    <tr>\n",
       "      <th>Date</th>\n",
       "      <th></th>\n",
       "    </tr>\n",
       "  </thead>\n",
       "  <tbody>\n",
       "    <tr>\n",
       "      <th>1922-01-09</th>\n",
       "      <td>1</td>\n",
       "    </tr>\n",
       "    <tr>\n",
       "      <th>1922-08-20</th>\n",
       "      <td>1</td>\n",
       "    </tr>\n",
       "    <tr>\n",
       "      <th>1961-09-01</th>\n",
       "      <td>1</td>\n",
       "    </tr>\n",
       "    <tr>\n",
       "      <th>1975-01-01</th>\n",
       "      <td>1</td>\n",
       "    </tr>\n",
       "    <tr>\n",
       "      <th>1982-01-01</th>\n",
       "      <td>1</td>\n",
       "    </tr>\n",
       "  </tbody>\n",
       "</table>\n",
       "</div>"
      ],
      "text/plain": [
       "            Offense_Category\n",
       "Date                        \n",
       "1922-01-09                 1\n",
       "1922-08-20                 1\n",
       "1961-09-01                 1\n",
       "1975-01-01                 1\n",
       "1982-01-01                 1"
      ]
     },
     "execution_count": 19,
     "metadata": {},
     "output_type": "execute_result"
    }
   ],
   "source": [
    "dates.head()"
   ]
  },
  {
   "cell_type": "code",
   "execution_count": 20,
   "id": "9f0092ee",
   "metadata": {},
   "outputs": [
    {
     "data": {
      "text/html": [
       "<div>\n",
       "<style scoped>\n",
       "    .dataframe tbody tr th:only-of-type {\n",
       "        vertical-align: middle;\n",
       "    }\n",
       "\n",
       "    .dataframe tbody tr th {\n",
       "        vertical-align: top;\n",
       "    }\n",
       "\n",
       "    .dataframe thead th {\n",
       "        text-align: right;\n",
       "    }\n",
       "</style>\n",
       "<table border=\"1\" class=\"dataframe\">\n",
       "  <thead>\n",
       "    <tr style=\"text-align: right;\">\n",
       "      <th></th>\n",
       "      <th>Offense_Category</th>\n",
       "    </tr>\n",
       "  </thead>\n",
       "  <tbody>\n",
       "    <tr>\n",
       "      <th>2019-03-02</th>\n",
       "      <td>87</td>\n",
       "    </tr>\n",
       "    <tr>\n",
       "      <th>2019-03-03</th>\n",
       "      <td>66</td>\n",
       "    </tr>\n",
       "    <tr>\n",
       "      <th>2019-03-04</th>\n",
       "      <td>98</td>\n",
       "    </tr>\n",
       "    <tr>\n",
       "      <th>2019-03-05</th>\n",
       "      <td>87</td>\n",
       "    </tr>\n",
       "    <tr>\n",
       "      <th>2019-03-06</th>\n",
       "      <td>77</td>\n",
       "    </tr>\n",
       "    <tr>\n",
       "      <th>...</th>\n",
       "      <td>...</td>\n",
       "    </tr>\n",
       "    <tr>\n",
       "      <th>2023-02-26</th>\n",
       "      <td>103</td>\n",
       "    </tr>\n",
       "    <tr>\n",
       "      <th>2023-02-27</th>\n",
       "      <td>123</td>\n",
       "    </tr>\n",
       "    <tr>\n",
       "      <th>2023-02-28</th>\n",
       "      <td>93</td>\n",
       "    </tr>\n",
       "    <tr>\n",
       "      <th>2023-03-01</th>\n",
       "      <td>113</td>\n",
       "    </tr>\n",
       "    <tr>\n",
       "      <th>2023-03-02</th>\n",
       "      <td>42</td>\n",
       "    </tr>\n",
       "  </tbody>\n",
       "</table>\n",
       "<p>1462 rows × 1 columns</p>\n",
       "</div>"
      ],
      "text/plain": [
       "            Offense_Category\n",
       "2019-03-02                87\n",
       "2019-03-03                66\n",
       "2019-03-04                98\n",
       "2019-03-05                87\n",
       "2019-03-06                77\n",
       "...                      ...\n",
       "2023-02-26               103\n",
       "2023-02-27               123\n",
       "2023-02-28                93\n",
       "2023-03-01               113\n",
       "2023-03-02                42\n",
       "\n",
       "[1462 rows x 1 columns]"
      ]
     },
     "execution_count": 20,
     "metadata": {},
     "output_type": "execute_result"
    }
   ],
   "source": [
    "dates = dates.reindex(idx, fill_value = 0)\n",
    "dates"
   ]
  },
  {
   "cell_type": "code",
   "execution_count": 21,
   "id": "0817c82e",
   "metadata": {},
   "outputs": [],
   "source": [
    "#rename column\n",
    "dates = dates.rename(columns = {'Offense_Category':'Occurances'})"
   ]
  },
  {
   "cell_type": "code",
   "execution_count": 22,
   "id": "8b7e2c25",
   "metadata": {},
   "outputs": [
    {
     "data": {
      "text/html": [
       "<div>\n",
       "<style scoped>\n",
       "    .dataframe tbody tr th:only-of-type {\n",
       "        vertical-align: middle;\n",
       "    }\n",
       "\n",
       "    .dataframe tbody tr th {\n",
       "        vertical-align: top;\n",
       "    }\n",
       "\n",
       "    .dataframe thead th {\n",
       "        text-align: right;\n",
       "    }\n",
       "</style>\n",
       "<table border=\"1\" class=\"dataframe\">\n",
       "  <thead>\n",
       "    <tr style=\"text-align: right;\">\n",
       "      <th></th>\n",
       "      <th>Occurances</th>\n",
       "    </tr>\n",
       "  </thead>\n",
       "  <tbody>\n",
       "    <tr>\n",
       "      <th>2019-03-02</th>\n",
       "      <td>87</td>\n",
       "    </tr>\n",
       "    <tr>\n",
       "      <th>2019-03-03</th>\n",
       "      <td>66</td>\n",
       "    </tr>\n",
       "    <tr>\n",
       "      <th>2019-03-04</th>\n",
       "      <td>98</td>\n",
       "    </tr>\n",
       "    <tr>\n",
       "      <th>2019-03-05</th>\n",
       "      <td>87</td>\n",
       "    </tr>\n",
       "    <tr>\n",
       "      <th>2019-03-06</th>\n",
       "      <td>77</td>\n",
       "    </tr>\n",
       "    <tr>\n",
       "      <th>...</th>\n",
       "      <td>...</td>\n",
       "    </tr>\n",
       "    <tr>\n",
       "      <th>2023-02-26</th>\n",
       "      <td>103</td>\n",
       "    </tr>\n",
       "    <tr>\n",
       "      <th>2023-02-27</th>\n",
       "      <td>123</td>\n",
       "    </tr>\n",
       "    <tr>\n",
       "      <th>2023-02-28</th>\n",
       "      <td>93</td>\n",
       "    </tr>\n",
       "    <tr>\n",
       "      <th>2023-03-01</th>\n",
       "      <td>113</td>\n",
       "    </tr>\n",
       "    <tr>\n",
       "      <th>2023-03-02</th>\n",
       "      <td>42</td>\n",
       "    </tr>\n",
       "  </tbody>\n",
       "</table>\n",
       "<p>1462 rows × 1 columns</p>\n",
       "</div>"
      ],
      "text/plain": [
       "            Occurances\n",
       "2019-03-02          87\n",
       "2019-03-03          66\n",
       "2019-03-04          98\n",
       "2019-03-05          87\n",
       "2019-03-06          77\n",
       "...                ...\n",
       "2023-02-26         103\n",
       "2023-02-27         123\n",
       "2023-02-28          93\n",
       "2023-03-01         113\n",
       "2023-03-02          42\n",
       "\n",
       "[1462 rows x 1 columns]"
      ]
     },
     "execution_count": 22,
     "metadata": {},
     "output_type": "execute_result"
    }
   ],
   "source": [
    "dates"
   ]
  },
  {
   "cell_type": "markdown",
   "id": "626adbd5",
   "metadata": {},
   "source": [
    "Time Series Analysis"
   ]
  },
  {
   "cell_type": "code",
   "execution_count": 36,
   "id": "014c9582",
   "metadata": {},
   "outputs": [
    {
     "data": {
      "image/png": "[encoded data removed]",
      "text/plain": [
       "<Figure size 432x288 with 1 Axes>"
      ]
     },
     "metadata": {
      "needs_background": "light"
     },
     "output_type": "display_data"
    }
   ],
   "source": [
    "#Step 1: Visualize the data\n",
    "from matplotlib import pyplot\n",
    "# lets visualize the data over the entire available time period\n",
    "\n",
    "dates.plot()\n",
    "pyplot.show()\n",
    "#looks like maybe "
   ]
  },
  {
   "cell_type": "code",
   "execution_count": 37,
   "id": "f1bf1853",
   "metadata": {},
   "outputs": [
    {
     "name": "stdout",
     "output_type": "stream",
     "text": [
      "ADF Statistic: -3.149144\n",
      "p-value: 0.023124\n",
      "Critical Values:\n",
      "\t1%: -3.435\n",
      "\t5%: -2.864\n",
      "\t10%: -2.568\n"
     ]
    }
   ],
   "source": [
    "#Step2: Use ADF to check stationarity\n",
    "from statsmodels.tsa.stattools import adfuller\n",
    "#series = read_csv('daily-total-female-births.csv', header=0, index_col=0, squeeze=True)\n",
    "#X = series.values\n",
    "result = adfuller(dates)\n",
    "print('ADF Statistic: %f' % result[0])\n",
    "print('p-value: %f' % result[1])\n",
    "print('Critical Values:')\n",
    "for key, value in result[4].items():\n",
    " print('\\t%s: %.3f' % (key, value))\n",
    "#with a p-value of < 0.05, I can reject the null hypothesis. Thus, the time series is stationary."
   ]
  },
  {
   "cell_type": "code",
   "execution_count": 38,
   "id": "37655611",
   "metadata": {},
   "outputs": [
    {
     "data": {
      "image/png": "[encoded data removed]",
      "text/plain": [
       "<Figure size 432x288 with 1 Axes>"
      ]
     },
     "metadata": {
      "needs_background": "light"
     },
     "output_type": "display_data"
    }
   ],
   "source": [
    "#Step 3: Plot ACF and PACF\n",
    "#Because it is stationary, I can now check ACF and PACF to see if the time series is purely AR or purely MA model\n",
    "#semi-colon is used to prevent the graph from being displayed twice\n",
    "plot_acf(dates, lags = 60);"
   ]
  },
  {
   "cell_type": "code",
   "execution_count": 39,
   "id": "de4f4a66",
   "metadata": {
    "scrolled": true
   },
   "outputs": [
    {
     "data": {
      "image/png": "[encoded data removed]",
      "text/plain": [
       "<Figure size 432x288 with 1 Axes>"
      ]
     },
     "metadata": {
      "needs_background": "light"
     },
     "output_type": "display_data"
    }
   ],
   "source": [
    "plot_pacf(dates, lags = 30);"
   ]
  },
  {
   "cell_type": "code",
   "execution_count": null,
   "id": "34c3b172",
   "metadata": {},
   "outputs": [],
   "source": [
    "#both seem to train off, so it is looking like ARMA model"
   ]
  },
  {
   "cell_type": "code",
   "execution_count": 41,
   "id": "8ebda37e",
   "metadata": {},
   "outputs": [],
   "source": [
    "#Using auto.arima() to find the best model"
   ]
  },
  {
   "cell_type": "code",
   "execution_count": 43,
   "id": "11cf8f9b",
   "metadata": {},
   "outputs": [
    {
     "data": {
      "text/plain": [
       "[<matplotlib.lines.Line2D at 0x2049517e880>]"
      ]
     },
     "execution_count": 43,
     "metadata": {},
     "output_type": "execute_result"
    },
    {
     "data": {
      "image/png": "[encoded data removed]",
      "text/plain": [
       "<Figure size 432x288 with 1 Axes>"
      ]
     },
     "metadata": {
      "needs_background": "light"
     },
     "output_type": "display_data"
    }
   ],
   "source": [
    "train = dates[:1170]\n",
    "test = dates[1171:]\n",
    "plt.plot(train)\n",
    "plt.plot(test)"
   ]
  },
  {
   "cell_type": "code",
   "execution_count": null,
   "id": "21007d39",
   "metadata": {
    "scrolled": false
   },
   "outputs": [
    {
     "name": "stdout",
     "output_type": "stream",
     "text": [
      "Performing stepwise search to minimize aic\n",
      " ARIMA(0,1,0)(0,1,0)[12]             : AIC=11940.253, Time=0.10 sec\n",
      " ARIMA(1,1,0)(1,1,0)[12]             : AIC=11410.578, Time=0.31 sec\n",
      " ARIMA(0,1,1)(0,1,1)[12]             : AIC=inf, Time=1.22 sec\n",
      " ARIMA(1,1,0)(0,1,0)[12]             : AIC=11800.852, Time=0.07 sec\n",
      " ARIMA(1,1,0)(2,1,0)[12]             : AIC=11281.278, Time=0.80 sec\n",
      " ARIMA(1,1,0)(3,1,0)[12]             : AIC=11193.790, Time=1.68 sec\n",
      " ARIMA(1,1,0)(4,1,0)[12]             : AIC=11178.184, Time=3.27 sec\n",
      " ARIMA(1,1,0)(5,1,0)[12]             : AIC=11142.455, Time=6.37 sec\n",
      " ARIMA(1,1,0)(5,1,1)[12]             : AIC=inf, Time=16.63 sec\n",
      " ARIMA(1,1,0)(4,1,1)[12]             : AIC=inf, Time=21.27 sec\n",
      " ARIMA(0,1,0)(5,1,0)[12]             : AIC=11289.094, Time=5.32 sec\n",
      " ARIMA(2,1,0)(5,1,0)[12]             : AIC=11069.777, Time=8.18 sec\n",
      " ARIMA(2,1,0)(4,1,0)[12]             : AIC=11109.331, Time=4.96 sec\n",
      " ARIMA(2,1,0)(5,1,1)[12]             : AIC=inf, Time=28.51 sec\n",
      " ARIMA(2,1,0)(4,1,1)[12]             : AIC=inf, Time=26.77 sec\n",
      " ARIMA(3,1,0)(5,1,0)[12]             : AIC=11029.127, Time=10.06 sec\n",
      " ARIMA(3,1,0)(4,1,0)[12]             : AIC=11065.832, Time=11.42 sec\n",
      " ARIMA(3,1,0)(5,1,1)[12]             : AIC=inf, Time=29.52 sec\n",
      " ARIMA(3,1,0)(4,1,1)[12]             : AIC=inf, Time=64.32 sec\n",
      " ARIMA(4,1,0)(5,1,0)[12]             : AIC=11013.291, Time=16.74 sec\n",
      " ARIMA(4,1,0)(4,1,0)[12]             : AIC=11050.247, Time=15.34 sec\n",
      " ARIMA(4,1,0)(5,1,1)[12]             : AIC=inf, Time=37.03 sec\n",
      " ARIMA(4,1,0)(4,1,1)[12]             : AIC=inf, Time=64.32 sec\n",
      " ARIMA(5,1,0)(5,1,0)[12]             : AIC=10972.090, Time=25.08 sec\n",
      " ARIMA(5,1,0)(4,1,0)[12]             : AIC=11014.189, Time=15.41 sec\n",
      " ARIMA(5,1,0)(5,1,1)[12]             : AIC=inf, Time=46.10 sec\n",
      " ARIMA(5,1,0)(4,1,1)[12]             : AIC=inf, Time=35.28 sec\n",
      " ARIMA(5,1,1)(5,1,0)[12]             : AIC=10901.113, Time=48.02 sec\n",
      " ARIMA(5,1,1)(4,1,0)[12]             : AIC=10936.388, Time=32.53 sec\n"
     ]
    }
   ],
   "source": [
    "#Using the Auto.arima function \n",
    "arima_model = auto_arima(train, start_p = 0, d=1, start_q=0,\n",
    "                        max_p = 5, max_d=5, max_q=5, start_P=0,\n",
    "                        D=1, start_Q=0, max_P=5, max_D=5, max_Q=5, m=12,\n",
    "                        seasonal = True, error_action = 'warn', trace = True,\n",
    "                        suppress_warnings =True, stepwise = True, random_state =20,\n",
    "                        n_fits = 50)"
   ]
  },
  {
   "cell_type": "markdown",
   "id": "89aa39e2",
   "metadata": {},
   "source": [
    "The best model in terms of AIC is ARIMA(5,1,1)(5,1,0)[12] which is much more expensive than a basic ARMA model in terms\n",
    "of number of parameters. However, AIC does penalize the model complexity in terms of number of parameters. \n",
    "Comparing this to my R analysis, the ARIMA(5,1,1)(5,1,0)[12] greatly outperforms the best R model, ARIMA(2,0,1) when comparing the AIC.  ARIMA(5,1,1)(5,1,0)[12] has an AIC of 10,036 whereas the ARIMA(2,0,1) has an AIC of 13,492."
   ]
  }
 ],
 "metadata": {
  "kernelspec": {
   "display_name": "Python 3 (ipykernel)",
   "language": "python",
   "name": "python3"
  },
  "language_info": {
   "codemirror_mode": {
    "name": "ipython",
    "version": 3
   },
   "file_extension": ".py",
   "mimetype": "text/x-python",
   "name": "python",
   "nbconvert_exporter": "python",
   "pygments_lexer": "ipython3",
   "version": "3.9.12"
  }
 },
 "nbformat": 4,
 "nbformat_minor": 5
}
